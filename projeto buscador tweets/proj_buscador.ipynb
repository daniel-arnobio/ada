{
 "cells": [
  {
   "cell_type": "code",
   "execution_count": 107,
   "metadata": {},
   "outputs": [],
   "source": [
    "import json, csv "
   ]
  },
  {
   "cell_type": "code",
   "execution_count": 108,
   "metadata": {},
   "outputs": [],
   "source": [
    "### Lendo o arquivo csv\n",
    "arquivo = open('C:\\projeto_LP_tweets_2022.csv', 'r',  encoding=\"utf8\")\n",
    "\n",
    "planilha = csv.reader(\n",
    "    arquivo, \n",
    "    delimiter=',', \n",
    "    lineterminator='\\n'\n",
    "  )\n",
    "\n",
    "lista_tweets = list(planilha)\n",
    "arquivo.close()"
   ]
  },
  {
   "cell_type": "code",
   "execution_count": 109,
   "metadata": {},
   "outputs": [],
   "source": [
    "#funcao para buscar tweets por data\n",
    "def buscar_data(data):\n",
    "        datas = []\n",
    "        conteudo = []\n",
    "        assunto_ = []\n",
    "        print('data | conteúdo | assunto')\n",
    "        ## um for para varrer todas as datas da lista_tweets e comparar com a data inputada\n",
    "        for linha in range(len(lista_tweets)):\n",
    "                data2 = lista_tweets[linha][0][0:10]\n",
    "                        #dia                    #mes                       #ano\n",
    "                if data[0:2]==data2[8:11] and data[3:5]==data2[5:7] and data[6:12]==data2[0:4]:\n",
    "                        #data           #conteudo                #assunto\n",
    "                        datas.append(lista_tweets[linha][0])\n",
    "                        conteudo.append(lista_tweets[linha][3])\n",
    "                        assunto_.append(lista_tweets[linha][4])\n",
    "                        print(f'{lista_tweets[linha][0][0:10][8:11]}/{lista_tweets[linha][0][0:10][5:7]}/{lista_tweets[linha][0][0:10][0:4]} | {lista_tweets[linha][3]} | {lista_tweets[linha][4]}')\n",
    "        dic = {'data': datas, 'conteudo': conteudo, 'assunto': assunto_}\n",
    "        return dic"
   ]
  },
  {
   "cell_type": "code",
   "execution_count": 110,
   "metadata": {},
   "outputs": [
    {
     "data": {
      "text/plain": [
       "'10'"
      ]
     },
     "execution_count": 110,
     "metadata": {},
     "output_type": "execute_result"
    }
   ],
   "source": [
    "lista_tweets[1][0][0:10][5:7]"
   ]
  },
  {
   "cell_type": "code",
   "execution_count": 111,
   "metadata": {},
   "outputs": [
    {
     "data": {
      "text/plain": [
       "'2022-10-17'"
      ]
     },
     "execution_count": 111,
     "metadata": {},
     "output_type": "execute_result"
    }
   ],
   "source": [
    "lista_tweets[1][0][0:10]"
   ]
  },
  {
   "cell_type": "code",
   "execution_count": 112,
   "metadata": {},
   "outputs": [],
   "source": [
    "#funcao para buscar termo no tweet\n",
    "def buscar_termo(termo):\n",
    "    datas = []\n",
    "    conteudo = []\n",
    "    assunto_ = []\n",
    "    print('data | conteúdo | assunto')\n",
    "    ## um for para varrer todas as datas da lista_tweets e comparar com a data inputada\n",
    "    for linha in range(len(lista_tweets)):\n",
    "        if termo in lista_tweets[linha][3]:\n",
    "            datas.append(lista_tweets[linha][0])\n",
    "            conteudo.append(lista_tweets[linha][3])\n",
    "            assunto_.append(lista_tweets[linha][4])\n",
    "            print(f'{lista_tweets[linha][0][0:10][8:11]}/{lista_tweets[linha][0][0:10][5:7]}/{lista_tweets[linha][0][0:10][0:4]} | {lista_tweets[linha][3]} | {lista_tweets[linha][4]}')\n",
    "    dic = {'data': datas, 'conteudo': conteudo, 'assunto': assunto_}\n",
    "    return dic"
   ]
  },
  {
   "cell_type": "code",
   "execution_count": 113,
   "metadata": {},
   "outputs": [],
   "source": [
    "def buscar_assunto(assunto):\n",
    "    print('data | conteúdo | assunto')\n",
    "    datas = []\n",
    "    conteudo = []\n",
    "    assunto_ = []\n",
    "    ## um for para varrer todas as datas da lista_tweets e comparar com o assunto\n",
    "    for linha in range(len(lista_tweets)):\n",
    "        if assunto ==  lista_tweets[linha][4]:\n",
    "            datas.append(lista_tweets[linha][0])\n",
    "            conteudo.append(lista_tweets[linha][3])\n",
    "            assunto_.append(lista_tweets[linha][4])\n",
    "            print(f'{lista_tweets[linha][0][0:10][8:11]}/{lista_tweets[linha][0][0:10][5:7]}/{lista_tweets[linha][0][0:10][0:4]} | {lista_tweets[linha][3]} | {lista_tweets[linha][4]}')\n",
    "    dic = {'data': datas, 'conteudo': conteudo, 'assunto': assunto_}\n",
    "    return dic"
   ]
  },
  {
   "cell_type": "code",
   "execution_count": 114,
   "metadata": {},
   "outputs": [],
   "source": [
    "#dic = buscar_assunto('covid-19')"
   ]
  },
  {
   "cell_type": "code",
   "execution_count": 115,
   "metadata": {},
   "outputs": [],
   "source": [
    "#funcao que salva em arquivo json\n",
    "def salvar_busca(dic):\n",
    "    json_object = json.dumps(dic) \n",
    "    with open(\"busca.json\", \"w\") as outfile: \n",
    "        outfile.write(json_object)"
   ]
  },
  {
   "cell_type": "code",
   "execution_count": 122,
   "metadata": {},
   "outputs": [
    {
     "name": "stdout",
     "output_type": "stream",
     "text": [
      "Boas vindas ao nosso sistema:\n",
      "1 - Buscar tweets por data\n",
      "2 - Buscar tweets por termo\n",
      "3 - Buscar tweets por assunto\n",
      "4 - Salvar resultado da busca\n",
      "5 - Sair\n",
      "data | conteúdo | assunto\n",
      "16/10/2022 | Lula: 'Quando São Paulo começou a dar vacina contra covid-19, 57 países já estavam vacinando. Você atrasou a vacina, Bolsonaro'.\n",
      "\n",
      "#DebateNaBand #debateband #DebatePresidente #lulanaband #BolsonaroNaCadeia #bolsonaronaband | covid-19\n",
      "14/10/2022 | Brasil votem 13 lula presidente 13,sao paulo sao paulo por favor votem no fernando haddad 13,vejam o que bolsonaro fez na pandemia covid 19 no brasil,2020,2021,2022,bolsonaro se negou comprar 70milhoes das vacinas pfaiser ,2 doses das vacinas pfaiser teria salvo meu irmao https://t.co/Bn1m2BYOmm | covid-19\n",
      "07/10/2022 | Ola boa noite Omar Azis ,13 lula 13 pt,deem me o vosso whattassap,eu e minha irma queremos gravar uns videos a dizer umas verdades pro genocida ,ladrao ,jair bolsonaro miliciano,eu perdi meu irmao 27 03 2021 vitima da covid , 19,sao paulo ,sao paulo. https://t.co/ELc5lWQOvD | covid-19\n",
      "07/10/2022 | 13 lula 13,janones 13 voces precisam irem nas cidades pequenas pra angariem votos pro lula 13 esquerda ,eu choro a morte do meu irmao vitima da covid 19 ,27 03 2021,2 doses das vacinas contra a covid 19 teria salvo meu irmao,sao paulo sao paulo hospital gurarapiranga ,luto https://t.co/jxZf18hu1J | covid-19\n",
      "02/10/2022 | É hoje o grande dia, eu voto pela educação, eu defendo as minorias, as cotas. Eu voto contra o racismo, a violência e o preconceito. Eu voto pelos negros, pelos LGBTQIAP+, pelas vítimas da COVID-19, eu voto pelo meu ídolo PAULO GUSTAVO. #Eleicoes2022 #lula continua + https://t.co/tT2lorvsIA | covid-19\n",
      "30/09/2022 | Pela primeira vez, cientistas da Universidade Federal de São Paulo (Unifesp) conseguiram mostrar que a infecção pelo vírus SARS-CoV-2, causador da COVID-19, altera o padrão de funcionamento dos RNAs das células.\n",
      "\n",
      "https://t.co/ktSZh8Jr1G\n",
      "#pharmainnovation #portalphi #celulas https://t.co/gNszEpIHVN | covid-19\n",
      "30/09/2022 | @roniilldo_ Deve ter levado algum 💸 esse padre de festa junina lula primeiro turno faz o L emande pra casa quem matou indiretamente mais de 600 mil pessoas com política contra a vacina entre elas Paulo Gustavo que se foi vítima da COVID 19, que foi citado pelo presidente BOZO através da lei | covid-19\n",
      "15/09/2022 | Aplicativo de celular ajuda na redução da desigualdade social nas periferias de São Paulo.\n",
      "\n",
      "O projeto começou no auge da pandemia da Covid-19, como forma de organizar doações de alimentos em regiões de vulnerabilidade. \n",
      "\n",
      "#JTCultura https://t.co/cXdbWlwZyO | covid-19\n",
      "13/09/2022 | Em artigo, pesquisadores da Universidade Federal de São Paulo (Unifesp) descrevem pela primeira vez o que muda no funcionamento celular quando alguém é infectado por Covid-19\n",
      "https://t.co/PD7rH2pAz8 | covid-19\n",
      "10/08/2022 | @frankinsteta @Wesley_KFF1 @FernandoMSaad1 @DarkSchuy_ @Fabio_godoii @taoquei1 pode ter certeza, o máximo que vi na época do lula foi o apagão de São Paulo.\n",
      "\n",
      "repito, não tivemos nada igual a pandemia de covid-19 antes de 2020.\n",
      "\n",
      "isso é um fato, aceite você ou não. | covid-19\n",
      "05/08/2022 | 13 lula 13 PT ,02 10 2022 BRASIL VOTEM NO 13 PT LULA ,LULA DA SILVA EU PERDI MEU IRMAO VITIMA DA COVID 19 ,SAO PAULO 27 03 2021 ,POR FALTA DAS 2 DOSES DA VACINA ,LULA 13,MEU PAI FICOU DEPRESSIVO ,POR PERDER SEU FILHO AMADO,LULA 13 ,EU PERDI MEU PAI 10 06 2022 EU ESTOU DE LUTO ❤ https://t.co/BZfALeaVK8 | covid-19\n",
      "17/10/2022 | @CaioSKG @cristinanobresh @soutamires_sp @LulaOficial Eu gosto muito do Paulo Guedes como ministro da economia. Só falta lula colocar a Dilma que gastou 25,5 bilhões com copa do mundo 🤦🏻‍♀️ | copa do mundo\n",
      "26/09/2022 | Meus papos essa semana:\n",
      "- Há mais tem aquela regra dos 20% do cociente eleitoral para eleger deputado. \n",
      "-Vish, quanto dá isso em São Paulo? (Pega a calculadora do celular)\n",
      "\n",
      "Doido para chegar logo domingo e me preocupar com a Copa do Mundo e o brasileiro do Verdão. | copa do mundo\n",
      "17/10/2022 | @mariosabinof Constrangedor é ver luladrão numa disputa de eleições depois de ter saqueado o país | eleições\n",
      "16/10/2022 | @RenanSantosMBL @MBLivre @RenanSantosMBL não haverá eleições em 2026 se o bandido do lula ganhar  !!!! | eleições\n",
      "16/10/2022 | @PeKelmonApoio o golpe já foi cara , lula já ganhou as eleições; o TSE e STF faz o trabalho direitinho | eleições\n",
      "16/10/2022 | @fabriciorinaldi @paulo_edu1712 @Estadao @ECantanhede Indignar ??😂😂😂😂😂😂😂😂😂😂😂😂 Janones é um psicopata viciado em mentir e caluniar vai ser descartado pelo lula assim q as eleições acabarem, ganhado ou perdendo | eleições\n",
      "16/10/2022 | Algumas pessoas perguntaram ao lula \"o que é o pobre para você?\" um trecho de discurso do ex-presidente Luiz Inácio Lula da Silva (PT) em evento em São Paulo, em outubro de 2021. Na ocasião, o petista disse que pobres são usados como se fossem papel higiênico durante as eleições. | eleições\n",
      "16/10/2022 | Falta pouco... vamos voltar a ser feliz e não ter medo de expor nossas posições políticas.\n",
      "\n",
      "#Lula #LulaPresidente #lula2022 #brasilcomlula #gabinetedoamor #brasildaesperanca #brasildaesperança #lulapresidente2022 #eleicoes2022  #eleicoes @LulaOficial @Normose_ https://t.co/GzJvMgVt1u | eleições\n",
      "16/10/2022 | Que isso jovem...\n",
      "\n",
      "Não é por um Político, é #PelaNação 🇧🇷🇧🇷\n",
      "\n",
      "#eleições #eleicoes2022 #eleições2022 #bolsonaro2022 #bolsonaro #lula2022 #lula #soureinante #falareinante #acreditenobrasil #brasileirismo #brasileirista https://t.co/vXI7p61mLc | eleições\n",
      "16/10/2022 | @jairbolsonaro Presidente foca nas falas mentirosas do lula para ganhar as eleições, não pode perder o foco. Tem que rebater todas as mentiras que ele fala e mostrar a verdade. | eleições\n",
      "16/10/2022 | @SigaGazetaBR Tse trabalhando para lula vencer as eleições | eleições\n",
      "15/10/2022 | Parte 05 (final)\n",
      "\n",
      "Importante: Leiam a entrevista do Amôedo para Folha De São Paulo para entender sobre o que estou falando.\n",
      "\n",
      " #eleicoes #eleicoes2022 #amoedo #elenao #forabolsonaro #lulapresidente #joaoamoedo #amoedo | eleições\n",
      "15/10/2022 | 🚨🇧🇷O BRASILEIRO PRECISA DE VER ISSO: https://t.co/4IoYwPTjKT\n",
      "__________________________________________\n",
      "Bolsonaro lula Tarcísio Hadad Zema segundo turno primeiro turno Lula ladrão reeleito 22 13 vota tse Brasil eleições 2022 2023 minas gerais Rio de janeiro são Paulo b22 30/10 | eleições\n",
      "15/10/2022 | Acho que a bala de prata para as eleições está com Paulo Marinho e o celular do Bebianno. | eleições\n",
      "15/10/2022 | @AndreJanonesAdv Boa tarde meus queridos janone el lula eu sempre estive do seu lado votei em todas as eleicões que vc disputou vc pra mim sempre foi aminha referencia de vida , tamos juntos de novo , nosso pais. | eleições\n",
      "15/10/2022 | @77_frota @LulaOficial Merda desse perdeu as eleições por não apoia Bolsonaro agora fica nesse de lula frota você e ridículo | eleições\n",
      "15/10/2022 | Preservar o meio ambiente é preservar a vida, por isso precisamos frear os impactos ambientais.\n",
      "\n",
      "#Lula #LulaPresidente #lula2022 #brasilcomlula #gabinetedoamor #brasildaesperanca #brasildaesperança #lulapresidente2022 #eleicoes2022 #eleições @LulaOficial @Normose_ https://t.co/lqvq1pf9Mw | eleições\n",
      "15/10/2022 | @AntiBostonaro @FlavioBolsonaro Saia da sua bolha, tem muitos vídeos do lula falando q demoraria 30 anos pra implantar o socialismo, ele mesmo fundou o foro de São Paulo, José dirceu disse q a meta é ganhar as eleições pra iniciar o projeto socialista, Leonardo boff disse q ele fará uma revolução... | eleições\n",
      "15/10/2022 | É LULA DE NOVO...\n",
      "\n",
      "...NA CADEIA!\n",
      "\n",
      "Não é por um Político, é #PelaNação 🇧🇷🇧🇷\n",
      "\n",
      "#eleições #eleicoes2022 #eleições2022 #bolsonaro2022 #bolsonaro #lula2022 #lula #soureinante #falareinante #acreditenobrasil em Brazil https://t.co/jf3Ay2X22Y | eleições\n",
      "14/10/2022 | faz muito bem.\n",
      "Haddad no debate da band mostrou que já jogou a toalha sobre eleições pra governador, e estava fazendo campanha pra lula.\n",
      "não falou em nenhum assunto inerente a são Paulo.\n",
      "só falava de orçamento secreto, covid, milicia, e até de imóveis https://t.co/HlRrf8Wgvu | eleições\n",
      "14/10/2022 | Não é por um Político, é #PelaNação 🇧🇷🇧🇷\n",
      "\n",
      "#eleições #eleicoes2022 #eleições2022 #bolsonaro2022 #bolsonaro #lula2022 #lula #soureinante #falareinante #acreditenobrasil https://t.co/y6cN508Os5 | eleições\n",
      "14/10/2022 | @realpfigueiredo Paulo, não tem sentido, pq o que está acontecendo com o Brasil e absurdo, o TSE o STF, estão fazendo de tudo para eleger o LULA, e quem comanda as eleições, como confiar, e se o lula ganhar mesmo com fraude quem será q vai contestar o povo? Estou vendo só ladeira abaixo | eleições\n",
      "14/10/2022 | Até o Luizin tá virando o lado👏👏👏\n",
      "\n",
      "Não é por um Político, é #PelaNação 🇧🇷🇧🇷\n",
      "\n",
      "#eleições #eleicoes2022 #eleições2022 #bolsonaro2022 #bolsonaro #lula2022 #lula #soureinante #falareinante #acreditenobrasil em Brazil https://t.co/gCSVCwJIDO | eleições\n",
      "13/10/2022 | Na série é legal...\n",
      "\n",
      "...Na vida NÃO!\n",
      "\n",
      "Não é por um Político, é #PelaNação 🇧🇷🇧🇷\n",
      "\n",
      "#eleições #eleicoes2022 #eleições2022 #bolsonaro2022 #bolsonaro #lula2022 #lula #soureinante #falareinante #acreditenobrasil em Brazil https://t.co/q3n7bi7mE4 | eleições\n",
      "13/10/2022 | @jrtvilanova @Rodrigosegatto7 @UOLNoticias Datafolha é contratada pelo a Folha de são Paulo que tem um lado político e o  ponto não é esse: primeiro turno\n",
      "Paraná pesquisa lula 47% Bolsonaro 40\n",
      "Data folha lula 50% Bolsonaro 37% \n",
      "Ipec lula 51% Bolsonaro 36% quem foi melhor ? Responda ? | eleições\n",
      "13/10/2022 | @Gustavo45059567 @Ieosouza @PesqBR2022 Para quem tinha 14 pontos de diferença no 1° turno e hj estamos empatados tecnicamente com o Ladrão, e faltando 17 dias para as eleições, temos que comemorar muito 😂😂😂😂😂\n",
      "Obs: lula não já ganhou no 1° turno?😂😂😂😂 | eleições\n",
      "13/10/2022 | Estou  muito cansado dessas eleições, já deu, ta acabando com a saúde mental que me resta, é muito difícil imaginar que 1 genocida/nazista tem a chance de vencer essa eleição, depois desses 4 anos, eu não imaginava que seria assim, chega logo dia 30 #lula2022 #LulaPresidente1️⃣3️⃣ | eleições\n",
      "13/10/2022 | Se beber, não dirija (o país) 🇧🇷\n",
      "\n",
      "Não é por um Político, é #PelaNação 🇧🇷🇧🇷\n",
      "\n",
      "#eleições #eleicoes2022 #eleições2022 #bolsonaro2022 #bolsonaro #lula2022 #lula #soureinante #falareinante #acreditenobrasil https://t.co/rIFaFTvut2 | eleições\n",
      "Boas vindas ao nosso sistema:\n",
      "1 - Buscar tweets por data\n",
      "2 - Buscar tweets por termo\n",
      "3 - Buscar tweets por assunto\n",
      "4 - Salvar resultado da busca\n",
      "5 - Sair\n",
      "Boas vindas ao nosso sistema:\n",
      "1 - Buscar tweets por data\n",
      "2 - Buscar tweets por termo\n",
      "3 - Buscar tweets por assunto\n",
      "4 - Salvar resultado da busca\n",
      "5 - Sair\n"
     ]
    },
    {
     "ename": "ValueError",
     "evalue": "invalid literal for int() with base 10: ''",
     "output_type": "error",
     "traceback": [
      "\u001b[1;31m---------------------------------------------------------------------------\u001b[0m",
      "\u001b[1;31mValueError\u001b[0m                                Traceback (most recent call last)",
      "\u001b[1;32mc:\\ada\\projeto buscador tweets\\proj_buscador.ipynb Célula: 10\u001b[0m in \u001b[0;36m<cell line: 13>\u001b[1;34m()\u001b[0m\n\u001b[0;32m     <a href='vscode-notebook-cell:/c%3A/ada/projeto%20buscador%20tweets/proj_buscador.ipynb#X11sZmlsZQ%3D%3D?line=30'>31</a>\u001b[0m         \u001b[39mprint\u001b[39m(\u001b[39m'\u001b[39m\u001b[39mOpção Inválida. Tente Novamente.\u001b[39m\u001b[39m'\u001b[39m)\n\u001b[0;32m     <a href='vscode-notebook-cell:/c%3A/ada/projeto%20buscador%20tweets/proj_buscador.ipynb#X11sZmlsZQ%3D%3D?line=33'>34</a>\u001b[0m     menu()\n\u001b[1;32m---> <a href='vscode-notebook-cell:/c%3A/ada/projeto%20buscador%20tweets/proj_buscador.ipynb#X11sZmlsZQ%3D%3D?line=34'>35</a>\u001b[0m     option \u001b[39m=\u001b[39m \u001b[39mint\u001b[39;49m(\u001b[39minput\u001b[39;49m(\u001b[39m'\u001b[39;49m\u001b[39mEscreva sua opção: \u001b[39;49m\u001b[39m'\u001b[39;49m))\n\u001b[0;32m     <a href='vscode-notebook-cell:/c%3A/ada/projeto%20buscador%20tweets/proj_buscador.ipynb#X11sZmlsZQ%3D%3D?line=36'>37</a>\u001b[0m \u001b[39mprint\u001b[39m(\u001b[39m'\u001b[39m\u001b[39mObrigado por usar nosso programa. Até a próxima!\u001b[39m\u001b[39m'\u001b[39m)\n",
      "\u001b[1;31mValueError\u001b[0m: invalid literal for int() with base 10: ''"
     ]
    }
   ],
   "source": [
    "def menu():\n",
    "    print('Boas vindas ao nosso sistema:')\n",
    "    print('1 - Buscar tweets por data')\n",
    "    print('2 - Buscar tweets por termo')\n",
    "    print('3 - Buscar tweets por assunto')\n",
    "    print('4 - Salvar resultado da busca')\n",
    "    print('5 - Sair')\n",
    "\n",
    "menu()\n",
    "\n",
    "option = int(input('Escreva sua opção: '))\n",
    "\n",
    "while option != 5:\n",
    "\n",
    "    if option == 1: \n",
    "        data = input('Digite uma data no formato dd/mm/aaaa')\n",
    "        dic = buscar_data(data)\n",
    "\n",
    "    elif option == 2:\n",
    "        termo = input('Digite um termo: ')\n",
    "        dic = buscar_termo(termo)\n",
    "    \n",
    "    elif option ==3:\n",
    "        assunto = input('Digite um assunto: ')\n",
    "        dic = buscar_assunto(assunto)\n",
    "\n",
    "    elif option == 4:\n",
    "        salvar_busca(dic)\n",
    "    \n",
    "    else:\n",
    "        print('Opção Inválida. Tente Novamente.')\n",
    "\n",
    "\n",
    "    menu()\n",
    "    option = int(input('Escreva sua opção: '))\n",
    "\n",
    "print('Obrigado por usar nosso programa. Até a próxima!')\n",
    "\n"
   ]
  },
  {
   "cell_type": "code",
   "execution_count": null,
   "metadata": {},
   "outputs": [],
   "source": []
  },
  {
   "cell_type": "code",
   "execution_count": null,
   "metadata": {},
   "outputs": [],
   "source": []
  }
 ],
 "metadata": {
  "kernelspec": {
   "display_name": "Python 3.9.12 ('base')",
   "language": "python",
   "name": "python3"
  },
  "language_info": {
   "codemirror_mode": {
    "name": "ipython",
    "version": 3
   },
   "file_extension": ".py",
   "mimetype": "text/x-python",
   "name": "python",
   "nbconvert_exporter": "python",
   "pygments_lexer": "ipython3",
   "version": "3.9.12"
  },
  "orig_nbformat": 4,
  "vscode": {
   "interpreter": {
    "hash": "3a0de9df006df342b5e4296aedaeaf87f8585c794651fec65fd5881a82402807"
   }
  }
 },
 "nbformat": 4,
 "nbformat_minor": 2
}
