{
 "cells": [
  {
   "cell_type": "code",
   "execution_count": 159,
   "metadata": {},
   "outputs": [],
   "source": [
    "import json, csv "
   ]
  },
  {
   "cell_type": "code",
   "execution_count": 160,
   "metadata": {},
   "outputs": [],
   "source": [
    "def menu():\n",
    "    print(\n",
    "''' Boas vindas ao nosso sistema\n",
    "\n",
    "    1 - Buscar tweets por data\n",
    "    2-  Buscar tweets por termo\n",
    "    3 - Buscar tweets por assunto\n",
    "    4 - Salvar resultados da busca\n",
    "    5 - Sair\n",
    "    \n",
    "    ''')"
   ]
  },
  {
   "cell_type": "code",
   "execution_count": 161,
   "metadata": {},
   "outputs": [],
   "source": [
    "### Lendo o arquivo csv\n",
    "arquivo = open('C:\\projeto_LP_tweets_2022.csv', 'r',  encoding=\"utf8\")\n",
    "\n",
    "planilha = csv.reader(\n",
    "    arquivo, \n",
    "    delimiter=',', \n",
    "    lineterminator='\\n'\n",
    "  )\n",
    "\n",
    "lista_tweets = list(planilha)\n",
    "arquivo.close()"
   ]
  },
  {
   "cell_type": "code",
   "execution_count": 162,
   "metadata": {},
   "outputs": [
    {
     "data": {
      "text/plain": [
       "['2022-10-17 06:42:15+00:00',\n",
       " 'https://twitter.com/pauloeneas/status/1581898364630638593',\n",
       " 'pauloeneas',\n",
       " '[1/3] Informação objetiva que Bolsonaro tem que ter na ponta da língua para os debates: a primeira pessoa do mundo a ser vacinada contra Covid-19 foi Margaret Keenan na Inglaterra em 08/12/2020. A primeira pessoa vacinada no Brasil foi a enfermeira Monica Kalazans, em 17/01/2021.',\n",
       " 'covid-19']"
      ]
     },
     "execution_count": 162,
     "metadata": {},
     "output_type": "execute_result"
    }
   ],
   "source": [
    "lista_tweets[1]"
   ]
  },
  {
   "cell_type": "code",
   "execution_count": 163,
   "metadata": {},
   "outputs": [
    {
     "name": "stdout",
     "output_type": "stream",
     "text": [
      "Dia: 16\n",
      "Mês: 10\n",
      "Ano: 2022\n"
     ]
    }
   ],
   "source": [
    "#data inputada\n",
    "data = '16/10/2022'\n",
    "print(f'Dia: {data[0:2]}')\n",
    "print(f'Mês: {data[3:5]}')\n",
    "print(f'Ano: {data[6:12]}')"
   ]
  },
  {
   "cell_type": "code",
   "execution_count": 164,
   "metadata": {},
   "outputs": [
    {
     "name": "stdout",
     "output_type": "stream",
     "text": [
      "Dia: 17\n",
      "Mês: 10\n",
      "Ano: 2022\n"
     ]
    }
   ],
   "source": [
    "#data da lista\n",
    "data2 = lista_tweets[1][0][0:10]\n",
    "print(f'Dia: {data2[8:11]}')\n",
    "print(f'Mês: {data2[5:7]}')\n",
    "print(f'Ano: {data2[0:4]}')\n"
   ]
  },
  {
   "cell_type": "code",
   "execution_count": 165,
   "metadata": {},
   "outputs": [],
   "source": [
    "#funcao para buscar tweets por data\n",
    "def buscar_data(data):\n",
    "    print('data | conteúdo | assunto')\n",
    "    ## um for para varrer todas as datas da lista_tweets e comparar com a data inputada\n",
    "    for linha in range(len(lista_tweets)):\n",
    "        data2 = lista_tweets[linha][0][0:10]\n",
    "                #dia                    #mes                       #ano\n",
    "        if data[0:2]==data2[8:11] and data[3:5]==data2[5:7] and data[6:12]==data2[0:4]:\n",
    "                    #data           #conteudo                #assunto\n",
    "            print(f'{data} | {lista_tweets[linha][3]} | {lista_tweets[linha][4]}')"
   ]
  },
  {
   "cell_type": "code",
   "execution_count": 167,
   "metadata": {},
   "outputs": [],
   "source": [
    "#funcao para buscar termo no tweet\n",
    "def buscar_termo(termo):\n",
    "    print('data | conteúdo | assunto')\n",
    "    ## um for para varrer todas as datas da lista_tweets e comparar com a data inputada\n",
    "    for linha in range(len(lista_tweets)):\n",
    "        if termo in lista_tweets[linha][3]:\n",
    "            print(f'{data} | {lista_tweets[linha][3]} | {lista_tweets[linha][4]}')"
   ]
  },
  {
   "cell_type": "code",
   "execution_count": 168,
   "metadata": {},
   "outputs": [],
   "source": [
    "#buscar_termo('lula')"
   ]
  },
  {
   "cell_type": "code",
   "execution_count": 169,
   "metadata": {},
   "outputs": [],
   "source": [
    "def buscar_assunto(assunto):\n",
    "    print('data | conteúdo | assunto')\n",
    "    datas = []\n",
    "    conteudo = []\n",
    "    assunto_ = []\n",
    "    ## um for para varrer todas as datas da lista_tweets e comparar com o assunto\n",
    "    for linha in range(len(lista_tweets)):\n",
    "        if assunto ==  lista_tweets[linha][4]:\n",
    "            datas.append({lista_tweets[linha][0]})\n",
    "            conteudo.append({lista_tweets[linha][3]})\n",
    "            assunto_.append({lista_tweets[linha][4]})\n",
    "            dic_busca = {'data': data, 'conteudo': conteudo, 'assunto': assunto_}\n",
    "            print(f'{data} | {lista_tweets[linha][3]}|{lista_tweets[linha][4]}')\n",
    "    return dic_busca"
   ]
  },
  {
   "cell_type": "code",
   "execution_count": null,
   "metadata": {},
   "outputs": [],
   "source": [
    "dic = buscar_assunto('covid-19')"
   ]
  },
  {
   "cell_type": "code",
   "execution_count": null,
   "metadata": {},
   "outputs": [],
   "source": [
    "dic"
   ]
  },
  {
   "cell_type": "code",
   "execution_count": 172,
   "metadata": {},
   "outputs": [],
   "source": [
    "#funcao que salva em arquivo json\n",
    "def salvar_busca(dic):\n",
    "    with open(\"busca_salva.json\", \"w\") as arquivo:\n",
    "        json.dump(list(dic), arquivo)\n",
    "    "
   ]
  },
  {
   "cell_type": "code",
   "execution_count": 173,
   "metadata": {},
   "outputs": [],
   "source": [
    "salvar_busca(dic)"
   ]
  },
  {
   "cell_type": "code",
   "execution_count": null,
   "metadata": {},
   "outputs": [],
   "source": []
  }
 ],
 "metadata": {
  "kernelspec": {
   "display_name": "Python 3.9.12 ('base')",
   "language": "python",
   "name": "python3"
  },
  "language_info": {
   "codemirror_mode": {
    "name": "ipython",
    "version": 3
   },
   "file_extension": ".py",
   "mimetype": "text/x-python",
   "name": "python",
   "nbconvert_exporter": "python",
   "pygments_lexer": "ipython3",
   "version": "3.9.12"
  },
  "orig_nbformat": 4,
  "vscode": {
   "interpreter": {
    "hash": "3a0de9df006df342b5e4296aedaeaf87f8585c794651fec65fd5881a82402807"
   }
  }
 },
 "nbformat": 4,
 "nbformat_minor": 2
}
