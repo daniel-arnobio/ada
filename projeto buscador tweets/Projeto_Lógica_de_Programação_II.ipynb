{
  "cells": [
    {
      "cell_type": "markdown",
      "metadata": {
        "id": "OwnjctYVYDiH"
      },
      "source": [
        "## Sistema de busca em dados do Twitter\n",
        "\n",
        "Seu objetivo como desenvolvedor, será o de construir um Sistema de busca de tweets por determinado padrão (por data, termo no tweet, ou por assunto). Esse sistema deverá conter os seguintes requisitos:"
      ]
    },
    {
      "cell_type": "markdown",
      "metadata": {
        "id": "Jja8ZG9baVQE"
      },
      "source": [
        "### Base de dados de tweets\n",
        "<div align=\"justify\";>\n",
        "<p>O sistema ser desenvolvido, contará com uma base de dados coletada diretamente do Twitter.</p>\n",
        "\n",
        "<p>Esta base dados está armazenada em um arquivo com extensão CSV, e o sistema deverá ser capaz de manipulá-la em tempo de execução de suas funcionalidades.</p>\n",
        "\n",
        "<p>A base de dados é composta por cerca de 4 mil tweets separados por 4 assuntos distintos: <b>covid-19</b>; <b>ciência de dados</b>; <b>copa do mundo</b> e; <b>eleições</b>.</p>\n",
        "\n",
        "<p>Além disso, é possível observar na base, campos contendo a data, a URL, o conteúdo, os nomes de usuários, e o assunto de cada tweet coletado.</p>\n",
        "\n",
        "<p>Você pode baixar a base de dados <a href=\"https://drive.google.com/file/d/103GvlCjiVVBl03_sjPvUCCrR7Zb3uXwN/view?usp=sharing\">AQUI</a></p>\n",
        "\n",
        "</div>"
      ]
    },
    {
      "cell_type": "markdown",
      "metadata": {
        "id": "K4D97YbfYfZb"
      },
      "source": [
        "### Menu Principal\n",
        "\n",
        "Ao iniciar o programa, o seguinte menu deve ser apresentado ao usuário:\n",
        "\n",
        "```\n",
        "Boas vindas ao nosso sistema:\n",
        "\n",
        "1 - Buscar tweets por data\n",
        "2 - Buscar tweets por termo\n",
        "3 - Buscar tweets por assunto\n",
        "4 - Salvar resultado da busca\n",
        "5 - Sair\n",
        "```"
      ]
    },
    {
      "cell_type": "markdown",
      "metadata": {
        "id": "dqAacUhCZry9"
      },
      "source": [
        "### 1 - Buscar tweets por data\n",
        "\n",
        "<div align=\"justify\">\n",
        "<p>A busca de tweets por <b>data</b> consiste em permitir que o usuário digite uma data no formato dd/mm/aaaa, e o sistema imprima na tela, os tweets referentes a data solicitada.</p> \n",
        "\n",
        "<p>Exemplo:</p>\n",
        "data informada: 16/10/2022\n",
        "\n",
        "<p>Saída na tela:</p>\n",
        "\n",
        "```\n",
        "data  |  conteúdo   |   assunto\n",
        "16/10/2022  |  To doido pra começar a copa logo , parece que nós ta a muito mais q 4 anos sem copa do mundo  |  copa do mundo \n",
        "16/10/2022  |  Eba, 2022 tem copa do mundo no Qatar!!!  |  copa do mundo\n",
        "16/10/2022  |  COVID-19 é um mal que assola a nossa sociedade em todos os sentidos |  covid-19\n",
        "...\n",
        "...\n",
        "```\n",
        "</div>"
      ]
    },
    {
      "cell_type": "markdown",
      "metadata": {
        "id": "M5ppYOl3kFfm"
      },
      "source": [
        "### 2 - Buscar tweets por termo\n",
        "\n",
        "<div align=\"justify\">\n",
        "<p>A busca de tweets por <b>termo</b> consiste em permitir que o usuário digite uma palavra ou termo qualquer, e o sistema imprima na tela, os tweets que contenham a palavra informada.</p> \n",
        "\n",
        "<p>Exemplo:</p>\n",
        "palavra informada: copa\n",
        "\n",
        "<p>Saída na tela:</p>\n",
        "\n",
        "```\n",
        "data  |  conteúdo   |   assunto\n",
        "16/10/2022  |  To doido pra começar a copa logo , parece que nós ta a muito mais q 4 anos sem copa do mundo  |  copa do mundo \n",
        "16/10/2022  |  Eba, 2022 tem copa do mundo no Qatar!!!  |  copa do mundo\n",
        "...\n",
        "...\n",
        "```\n",
        "</div>"
      ]
    },
    {
      "cell_type": "markdown",
      "metadata": {
        "id": "uZuP5vgXkgeg"
      },
      "source": [
        "### 3 - Buscar tweets por assunto\n",
        "\n",
        "<div align=\"justify\">\n",
        "<p>A busca de tweets por <b>assunto</b> consiste em permitir que o usuário filtre na base de dados, todos os tweets que são referentes ao assunto solicitado. O sistema deve mostrar ao usuário, quais são os assuntos disponíveis, e permitir que o usuário escolha o que irá consultar.</p> \n",
        "\n",
        "<p>Exemplo:</p>\n",
        "assuntos disponíveis: \n",
        "  1. Copa do Mundo\n",
        "  2. Eleições\n",
        "  3. Ciência de Dados\n",
        "  4. COVID-19\n",
        "\n",
        "Assunto escolhido pelo usuário: 1\n",
        "\n",
        "<p>Saída na tela:</p>\n",
        "\n",
        "```\n",
        "data  |  conteúdo   |   assunto\n",
        "16/10/2022  |  To doido pra começar a copa logo , parece que nós ta a muito mais q 4 anos sem copa do mundo  |  copa do mundo \n",
        "16/10/2022  |  Eba, 2022 tem copa do mundo no Qatar!!!  |  copa do mundo\n",
        "...\n",
        "...\n",
        "```\n",
        "</div>"
      ]
    },
    {
      "cell_type": "markdown",
      "metadata": {
        "id": "OCi4qerWuxy5"
      },
      "source": [
        "### 4 - Salvar resultado da busca\n",
        "\n",
        "<div align=\"justify\">\n",
        "<p>Permita que o usuário salve em arquivo cada busca que ele fizer, independente da forma: data, termo ou assunto.</p>\n",
        "\n",
        "<p>O arquivo deve ser em formato JSON (extensão .json) em que contenha a <b>data</b>, <b>conteúdo</b> e <b>assunto</b> de cada tweet retornado na busca feita pelo usuário</p>\n",
        "</div>"
      ]
    },
    {
      "cell_type": "markdown",
      "metadata": {
        "id": "R5_YBXTfvioV"
      },
      "source": [
        "### 5 - Sair\n",
        "\n",
        "<div align=\"justify\">\n",
        "<p>Permita que o usuário finalize o programa quando desejar.</p>"
      ]
    }
  ],
  "metadata": {
    "colab": {
      "collapsed_sections": [],
      "provenance": []
    },
    "kernelspec": {
      "display_name": "Python 3.9.12 ('base')",
      "language": "python",
      "name": "python3"
    },
    "language_info": {
      "name": "python",
      "version": "3.9.12"
    },
    "vscode": {
      "interpreter": {
        "hash": "3a0de9df006df342b5e4296aedaeaf87f8585c794651fec65fd5881a82402807"
      }
    }
  },
  "nbformat": 4,
  "nbformat_minor": 0
}
