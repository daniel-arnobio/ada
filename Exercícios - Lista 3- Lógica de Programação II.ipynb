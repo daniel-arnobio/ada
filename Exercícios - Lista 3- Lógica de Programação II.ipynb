{
 "cells": [
  {
   "cell_type": "markdown",
   "metadata": {},
   "source": [
    "## Exercícios - 890 - Lógica de Programação II\n",
    "* Aluno: Daniel Arnóbio Dantas da Silva "
   ]
  },
  {
   "cell_type": "markdown",
   "metadata": {},
   "source": [
    "1 - Escreva uma função chamada mais_frequente que receba uma string e exiba as letras em ordem decrescente de frequência. Observação: Use dicionários na implementação."
   ]
  },
  {
   "cell_type": "code",
   "execution_count": 2,
   "metadata": {},
   "outputs": [
    {
     "name": "stdout",
     "output_type": "stream",
     "text": [
      "E eu sou uma arvore bonita\n",
      "e: 3\n",
      "u: 3\n",
      "o: 3\n",
      "a: 3\n",
      "r: 2\n",
      "s: 1\n",
      "m: 1\n",
      "v: 1\n",
      "b: 1\n",
      "n: 1\n",
      "i: 1\n",
      "t: 1\n"
     ]
    }
   ],
   "source": [
    "def mais_frequente(frase):\n",
    "    frase = frase.replace(' ', '').lower()\n",
    "    dic_letras = {}\n",
    "\n",
    "    for i in frase:\n",
    "        dic_letras[i] = frase.count(i) \n",
    "\n",
    "    for item in sorted(dic_letras, key = dic_letras.get, reverse = True):\n",
    "        print (f'{item}: {dic_letras[item]}')\n",
    "    \n",
    "frase = input('Digite uma frase: ')\n",
    "print(frase)\n",
    "mais_frequente(frase)"
   ]
  },
  {
   "cell_type": "markdown",
   "metadata": {},
   "source": [
    "2 - Escreva uma função, chamada contaVoigais, que conta todas as vogais presentes no texto recebido como parâmetro e retorna um dicionário contendo a quantidade de cada vogal. Escreva um programa a fim de testar sua função, e exiba, no fim, os dados do dicionário retornado."
   ]
  },
  {
   "cell_type": "code",
   "execution_count": 1,
   "metadata": {},
   "outputs": [
    {
     "name": "stdout",
     "output_type": "stream",
     "text": [
      "E eu sou uma árvore bonita\n",
      "a: 2\n",
      "e: 3\n",
      "i: 1\n",
      "o: 3\n",
      "u: 3\n"
     ]
    }
   ],
   "source": [
    "def contaVogais(texto):\n",
    "    texto = texto.replace(' ', '').lower() \n",
    "    vogais = {}\n",
    "    for i in 'aeiou':\n",
    "        if i in texto:\n",
    "            vogais[i] = texto.count(i)\n",
    "    for key, value in vogais.items():\n",
    "        print(f'{key}: {value}')\n",
    "            \n",
    "texto = input('Digite um texto: ')\n",
    "print(texto)\n",
    "contaVogais(texto)"
   ]
  },
  {
   "cell_type": "markdown",
   "metadata": {},
   "source": [
    "3 - Escreva um programa para armazenar uma agenda de telefones em um dicionário. Cada pessoa pode ter um ou mais telefones e a chave do dicionário é o nome da pessoa. Seu programa deve ter as seguintes funções: ­\n",
    "\n",
    "* incluirNovoNome – essa função acrescenta um novo nome na agenda, com um ou mais telefones. Ela deve receber como argumentos o nome e os telefones. ­\n",
    "* incluirTelefone – essa função acrescenta um telefone em um nome existente na agenda. Caso o nome não exista na agenda, você deve perguntar se a pessoa deseja incluí-­lo. Caso a resposta seja afirmativa, use a função anterior para incluir o novo nome. ­\n",
    "* excluirTelefone – essa função exclui um telefone de uma pessoa que já está na agenda. Se a pessoa tiver apenas um telefone, ela deve ser excluída da agenda.\n",
    "* excluirNome – essa função exclui uma pessoa da agenda.\n",
    "* consultarTelefone – essa função retorna os telefones de uma pessoa na agenda."
   ]
  },
  {
   "cell_type": "code",
   "execution_count": 97,
   "metadata": {},
   "outputs": [],
   "source": [
    "agenda = {}\n",
    "\n",
    "def incluirNovoNome(nome, *telefone):\n",
    "    agenda[nome] = {'telefone': telefone}\n",
    "    return agenda"
   ]
  },
  {
   "cell_type": "code",
   "execution_count": 98,
   "metadata": {},
   "outputs": [
    {
     "data": {
      "text/plain": [
       "{'Daniel': {'telefone': (996514596, 99893893)}}"
      ]
     },
     "execution_count": 98,
     "metadata": {},
     "output_type": "execute_result"
    }
   ],
   "source": [
    "incluirNovoNome('Daniel', 996514596, 99893893)"
   ]
  },
  {
   "cell_type": "code",
   "execution_count": 99,
   "metadata": {},
   "outputs": [],
   "source": [
    "\n",
    "def incluirTelefone(nome, telefone):\n",
    "    if nome not in agenda:\n",
    "        op = input('Para incluir um novo contato na agenda digite S: ').upper()\n",
    "        if op == 'S':\n",
    "            incluirNovoNome(nome, telefone)"
   ]
  },
  {
   "cell_type": "code",
   "execution_count": 100,
   "metadata": {},
   "outputs": [],
   "source": [
    "incluirTelefone('Lucas', 8934934984)"
   ]
  },
  {
   "cell_type": "code",
   "execution_count": 101,
   "metadata": {},
   "outputs": [],
   "source": [
    "def excluiTelefone(nome, telefone):\n",
    "    for value in list(agenda[nome].values())[0]:\n",
    "        if value == telefone:\n",
    "            agenda.pop(nome)\n",
    "        else:\n",
    "            print(agenda)"
   ]
  },
  {
   "cell_type": "code",
   "execution_count": 102,
   "metadata": {},
   "outputs": [],
   "source": [
    "def excluiNome(nome):\n",
    "    agenda.pop(nome)\n",
    "    return agenda"
   ]
  },
  {
   "cell_type": "code",
   "execution_count": 105,
   "metadata": {},
   "outputs": [],
   "source": [
    "def consultarTelefone(nome):\n",
    "    for i in list(agenda[nome].values())[0]:\n",
    "        print(i)"
   ]
  },
  {
   "cell_type": "markdown",
   "metadata": {},
   "source": [
    "4 - Faça um programa que leia nomes de alunos e suas respectivas notas até que o nome ’oooo’ seja informado, após o fim da leitura, imprima o nome do aluno que possui a maior nota. Obs.: Use dicionário para resolver essa questão."
   ]
  },
  {
   "cell_type": "code",
   "execution_count": null,
   "metadata": {},
   "outputs": [],
   "source": [
    "caderneta = {}\n",
    "\n",
    "operacao = input('Digite S para incluir um novo aluno e uma nova nota. Para encerrar digite oooo')\n",
    "while operacao != 'oooo':\n",
    "    nome = input('Digite o nome: ')\n",
    "    nota = float(input(f'Digite a nota do aluno {nome}: '))\n",
    "    caderneta[nome] = nota\n",
    "    operacao = input('Digite S para incluir um novo aluno e uma nova nota. Para encerrar digite oooo')\n",
    "\n",
    "maior_nota = 0\n",
    "nome_aluno = 0\n",
    "\n",
    "for key,value in caderneta.items():\n",
    "    if value > maior_nota:\n",
    "        maior_nota = value\n",
    "        nome_aluno = key\n",
    "\n",
    "print(f'Maior nota da turma: ')\n",
    "print(f'{nome_aluno}: {maior_nota}')"
   ]
  },
  {
   "cell_type": "markdown",
   "metadata": {},
   "source": [
    "5 - A conta do cartão de crédito de uma pessoa pode ser modelada por um dicionário com os campos saldo, com o saldo devedor da conta, transações, com o número de transações que gerou esse saldo, e média, com a média de gastos por transação. Escreva uma função compra, que recebe como parâmetros o dicionário com a conta e o valor da compra e retorna um novo dicionário para aquela conta, com o saldo devedor, número de transações e média de gastos atualizados."
   ]
  },
  {
   "cell_type": "code",
   "execution_count": null,
   "metadata": {},
   "outputs": [],
   "source": [
    "conta_cliente = {'nome': 'Daniel', 'saldo_devedor': 560, 'transacoes': 3, 'media': 186.67}\n",
    "\n",
    "\n",
    "def atualizaConta(conta_cliente, valor_compra):\n",
    "    conta_cliente['saldo_devedor'] += valor_compra\n",
    "    conta_cliente['transacoes'] += 1\n",
    "    conta_cliente['media'] = conta_cliente['saldo_devedor']/conta_cliente['transacoes']\n",
    "    return conta_cliente\n",
    "\n",
    "atualizaConta(conta_cliente, 678)"
   ]
  }
 ],
 "metadata": {
  "kernelspec": {
   "display_name": "Python 3.9.12 ('base')",
   "language": "python",
   "name": "python3"
  },
  "language_info": {
   "codemirror_mode": {
    "name": "ipython",
    "version": 3
   },
   "file_extension": ".py",
   "mimetype": "text/x-python",
   "name": "python",
   "nbconvert_exporter": "python",
   "pygments_lexer": "ipython3",
   "version": "3.9.12"
  },
  "orig_nbformat": 4,
  "vscode": {
   "interpreter": {
    "hash": "3a0de9df006df342b5e4296aedaeaf87f8585c794651fec65fd5881a82402807"
   }
  }
 },
 "nbformat": 4,
 "nbformat_minor": 2
}
