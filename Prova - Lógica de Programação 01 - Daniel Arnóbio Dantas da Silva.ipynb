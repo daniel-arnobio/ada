{
 "cells": [
  {
   "cell_type": "markdown",
   "metadata": {},
   "source": [
    "## Prova Final - 890 Lógica de Programacão I\n",
    "* Aluno: Daniel Arnóbio Dantas da Silva \n",
    "* Turma: 890"
   ]
  },
  {
   "cell_type": "markdown",
   "metadata": {},
   "source": [
    "1 - Faça um programa em python que receba um número inteiro positivo n e imprima o seguinte padrão:"
   ]
  },
  {
   "cell_type": "code",
   "execution_count": 2,
   "metadata": {},
   "outputs": [
    {
     "data": {
      "text/plain": [
       "'Exemplo\\nEntrada:\\n    - n = 6\\nSaída:\\n    1\\n    2 1\\n    3 2 1\\n    4 3 2 1\\n    5 4 3 2 1\\n    6 5 4 3 2 1\\n'"
      ]
     },
     "execution_count": 2,
     "metadata": {},
     "output_type": "execute_result"
    }
   ],
   "source": [
    "'''Exemplo\n",
    "Entrada:\n",
    "    - n = 6\n",
    "Saída:\n",
    "    1\n",
    "    2 1\n",
    "    3 2 1\n",
    "    4 3 2 1\n",
    "    5 4 3 2 1\n",
    "    6 5 4 3 2 1\n",
    "'''"
   ]
  },
  {
   "cell_type": "code",
   "execution_count": 3,
   "metadata": {},
   "outputs": [
    {
     "name": "stdout",
     "output_type": "stream",
     "text": [
      " 1\n",
      " 2 1\n",
      " 3 2 1\n",
      " 4 3 2 1\n",
      " 5 4 3 2 1\n",
      " 6 5 4 3 2 1\n"
     ]
    }
   ],
   "source": [
    "n = int(input('Insira um valor n: '))\n",
    "while n<0:\n",
    "    print('Insira um valor positivo: ')\n",
    "    n = int(input('Insira um valor n: '))\n",
    "else:\n",
    "    i=1\n",
    "    string = ''\n",
    "    while i<=n: \n",
    "        string += str(i) + ' ' \n",
    "        print(f\"{string[::-1]}\")  \n",
    "        i+=1"
   ]
  },
  {
   "cell_type": "markdown",
   "metadata": {},
   "source": [
    "2 -  Faça um programa em python que permita que o usuário digite notas de um exame aplicado, e que seja capaz de imprimir as seguintes informações:\n",
    "\n",
    "1. Média de todas as notas recebidas;\n",
    "2. Nota máxima;\n",
    "3. Nota mínima;\n",
    "\n",
    "Observações:\n",
    "\n",
    "* O usuário poderá digitar quantas notas quiser, portanto, faça com que o programa finalize e imprima as Informações, assim que o usuário digitar -1.\n",
    "* Permita que o programa receba apenas notas maiores ou iguais a zero."
   ]
  },
  {
   "cell_type": "code",
   "execution_count": 46,
   "metadata": {},
   "outputs": [
    {
     "name": "stdout",
     "output_type": "stream",
     "text": [
      "Digite uma nota maior ou igual a 0\n",
      "Digite uma nota maior ou igual a 0\n",
      "Digite uma nota maior ou igual a 0\n",
      "A média das notas recebidas é 7.60\n",
      "Nota máxima: 9.0\n",
      "Nota mínima: 6.0\n"
     ]
    }
   ],
   "source": [
    "notas = []\n",
    "\n",
    "nota = -99\n",
    "contador = 1\n",
    "while (nota != -1):\n",
    "    if nota < 0:\n",
    "        print('Digite uma nota maior ou igual a 0')\n",
    "        nota = float(input(f'Digite a nota {contador} ou -1 para encerrar: '))\n",
    "    elif nota >= 0:\n",
    "        notas.append(nota)\n",
    "        contador += 1\n",
    "        nota = float(input(f'Digite a nota {contador} ou -1 para encerrar: '))\n",
    "\n",
    "media = sum(notas)/len(notas)\n",
    "nota_maxima = max(notas)\n",
    "nota_minima = min(notas)\n",
    "\n",
    "print(f'A média das notas recebidas é {media:.2f}')\n",
    "print(f'Nota máxima: {nota_maxima}')\n",
    "print(f'Nota mínima: {nota_minima}')"
   ]
  },
  {
   "cell_type": "markdown",
   "metadata": {},
   "source": [
    "3 - Faça uma função que receba duas strings: string1 e string2, e retorne True, caso a string1 estiver contida em string2. Caso contrário, retorne False."
   ]
  },
  {
   "cell_type": "code",
   "execution_count": null,
   "metadata": {},
   "outputs": [],
   "source": [
    "'''Exemplo 1: \n",
    "\n",
    "Entrada:\n",
    "    - string1 = \"olá\"\n",
    "    - string2 = \"Olá, João! Tudo bem?\"\n",
    "Saída: True'''"
   ]
  },
  {
   "cell_type": "code",
   "execution_count": null,
   "metadata": {},
   "outputs": [],
   "source": [
    "'''Exemplo 2:\n",
    "\n",
    "Entrada:\n",
    "    - string1 = \"água\"\n",
    "    - string2 = \"Gostaria de tomar um café agora.\"\n",
    "Saída: False'''"
   ]
  },
  {
   "cell_type": "code",
   "execution_count": 48,
   "metadata": {},
   "outputs": [
    {
     "name": "stdout",
     "output_type": "stream",
     "text": [
      "False\n"
     ]
    }
   ],
   "source": [
    "string_1 = input('Digite uma palavra: ')\n",
    "string_2 = input('Digite uma frase: ').lower()\n",
    "\n",
    "if string_1 in string_2:\n",
    "    print(True)\n",
    "else:\n",
    "    print(False)   "
   ]
  },
  {
   "cell_type": "markdown",
   "metadata": {},
   "source": [
    "4 - Faça uma função que receba números inteiros positivos, e retorne uma lista com apenas os números pares contidos na lista original."
   ]
  },
  {
   "cell_type": "code",
   "execution_count": null,
   "metadata": {},
   "outputs": [],
   "source": [
    "'''Exemplo:\n",
    "Entrada:\n",
    "    - [1,2,3,4,5,6,7,8,9]\n",
    "Saída:\n",
    "    - [2,4,6,8]\n",
    "'''"
   ]
  },
  {
   "cell_type": "markdown",
   "metadata": {},
   "source": [
    "Para testar a função criada, permita que o usário digite 10 números para preencher a lista que será passada a função."
   ]
  },
  {
   "cell_type": "code",
   "execution_count": 50,
   "metadata": {},
   "outputs": [
    {
     "data": {
      "text/plain": [
       "[2, 4, 6, 8, 10]"
      ]
     },
     "execution_count": 50,
     "metadata": {},
     "output_type": "execute_result"
    }
   ],
   "source": [
    "def retornaPares(lista):\n",
    "    pares = [i for i in lista if i%2 == 0]\n",
    "    return pares\n",
    "\n",
    "lista = []\n",
    "for i in range(10):\n",
    "    numero = int(input('Digite um número: '))\n",
    "    if numero < 0:\n",
    "        print('Insira um número maior que 0!')\n",
    "    else:\n",
    "        lista.append(numero)\n",
    "    \n",
    "retornaPares(lista)"
   ]
  },
  {
   "cell_type": "code",
   "execution_count": null,
   "metadata": {},
   "outputs": [],
   "source": []
  }
 ],
 "metadata": {
  "kernelspec": {
   "display_name": "Python 3.9.12 ('base')",
   "language": "python",
   "name": "python3"
  },
  "language_info": {
   "codemirror_mode": {
    "name": "ipython",
    "version": 3
   },
   "file_extension": ".py",
   "mimetype": "text/x-python",
   "name": "python",
   "nbconvert_exporter": "python",
   "pygments_lexer": "ipython3",
   "version": "3.9.12"
  },
  "orig_nbformat": 4,
  "vscode": {
   "interpreter": {
    "hash": "3a0de9df006df342b5e4296aedaeaf87f8585c794651fec65fd5881a82402807"
   }
  }
 },
 "nbformat": 4,
 "nbformat_minor": 2
}
