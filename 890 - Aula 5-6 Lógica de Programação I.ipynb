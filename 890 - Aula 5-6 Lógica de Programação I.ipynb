{
 "cells": [
  {
   "cell_type": "markdown",
   "metadata": {},
   "source": [
    "## Lista - 890 - Aula 5-6 Lógica de Programação I"
   ]
  },
  {
   "cell_type": "markdown",
   "metadata": {},
   "source": [
    "1 - Faça um programa que receba uma frase, uma palavra antiga e uma palavra nova. o programa deve imprimir uma string contendo a frase original, mas com a última ocorrência da palavra antiga substituída pela palavra nova.\n",
    "\n",
    "Exemplo:\n",
    "\n",
    "* Frase: \"Quem parte e reparte fica com a maior parte\"\n",
    "* Palavra antiga: \"parte\"\n",
    "* Palavra nova: \"parcela\"\n",
    "* Resultado a ser impresso: \"Quem parte e reparte fica com a maior parcela\""
   ]
  },
  {
   "cell_type": "code",
   "execution_count": 13,
   "metadata": {},
   "outputs": [
    {
     "name": "stdout",
     "output_type": "stream",
     "text": [
      "Quem parte e reparte fica com a maior parcela \n"
     ]
    }
   ],
   "source": [
    "frase = input('Digite uma frase: ')\n",
    "lista = frase.split()\n",
    "nova_frase = ''\n",
    "palavra_antiga = input('Digite a palavra antiga: ')\n",
    "palavra_nova = input('Digite uma palavra nova: ')\n",
    "lista[-1] = palavra_nova\n",
    "frase = ''\n",
    "for i in lista:\n",
    "    nova_frase +=  i+''\n",
    "print(nova_frase)"
   ]
  },
  {
   "cell_type": "markdown",
   "metadata": {},
   "source": [
    "2 - Faça um programa em python que receba uma frase qualquer em que as palavras são separadas por espaço, e substitua todos esses espaços por #. Imprima o resultado."
   ]
  },
  {
   "cell_type": "code",
   "execution_count": 17,
   "metadata": {},
   "outputs": [
    {
     "name": "stdout",
     "output_type": "stream",
     "text": [
      "E#eu#sou#uma#árvore#bonita\n"
     ]
    }
   ],
   "source": [
    "frase = input('Insira uma frase')\n",
    "nova_frase = frase.replace(' ', '#')\n",
    "print(nova_frase)"
   ]
  },
  {
   "cell_type": "markdown",
   "metadata": {},
   "source": [
    "3 - Faça um programa que leia o nome do usuário e o imprima na vertical, em forma de escada, usando apenas letras maiúsculas."
   ]
  },
  {
   "cell_type": "code",
   "execution_count": null,
   "metadata": {},
   "outputs": [],
   "source": [
    "'''Exemplo:\n",
    "Nome = Vanessa Resultado gerado pelo programa:\n",
    "\n",
    "V\n",
    "VA\n",
    "VAN\n",
    "VANE\n",
    "VANES\n",
    "VANESS\n",
    "VANESSA'''"
   ]
  },
  {
   "cell_type": "code",
   "execution_count": 2,
   "metadata": {},
   "outputs": [
    {
     "name": "stdout",
     "output_type": "stream",
     "text": [
      "\n",
      "V\n",
      "VA\n",
      "VAN\n",
      "VANE\n",
      "VANES\n",
      "VANESS\n",
      "VANESSA\n"
     ]
    }
   ],
   "source": [
    "nome = input('Digite o seu nome')\n",
    "contador = 0\n",
    "\n",
    "while contador< len(nome)+1:\n",
    "    print(nome[0:contador])\n",
    "    contador+=1"
   ]
  },
  {
   "cell_type": "markdown",
   "metadata": {},
   "source": [
    "4 - Faça um programa que leia o nome do usuário e mostre o nome de traz para frente, utilizando somente letras maiúsculas."
   ]
  },
  {
   "cell_type": "code",
   "execution_count": null,
   "metadata": {},
   "outputs": [],
   "source": [
    "'''Exemplo:\n",
    "Nome = Renato Resultado gerado pelo programa: OTANER'''"
   ]
  },
  {
   "cell_type": "code",
   "execution_count": 5,
   "metadata": {},
   "outputs": [
    {
     "name": "stdout",
     "output_type": "stream",
     "text": [
      "OTANER\n"
     ]
    }
   ],
   "source": [
    "nome = input('Digite o seu nome: ').upper()\n",
    "\n",
    "print(nome[::-1])"
   ]
  },
  {
   "cell_type": "markdown",
   "metadata": {},
   "source": [
    "5 - Faça um programa que leia 2 strings e informe o conteúdo delas seguido do seu comprimento. Informe também se as duas strings possuem o mesmo comprimento e são iguais ou diferentes no conteúdo"
   ]
  },
  {
   "cell_type": "code",
   "execution_count": 9,
   "metadata": {},
   "outputs": [
    {
     "name": "stdout",
     "output_type": "stream",
     "text": [
      "baleia \t Comprimento:6\n",
      "baleia \t Comprimento:6\n",
      "baleia = baleia\n"
     ]
    }
   ],
   "source": [
    "string_1 = input()\n",
    "string_2 = input()\n",
    "\n",
    "print(f'{string_1} \\t Comprimento:{len(string_1)}')\n",
    "print(f'{string_2} \\t Comprimento:{len(string_2)}')\n",
    "\n",
    "if string_1 == string_2:\n",
    "    print(f'{string_1} = {string_2}')\n",
    "\n",
    "else:\n",
    "    print(f'{string_1} e {string_2} são diferentes')"
   ]
  },
  {
   "cell_type": "markdown",
   "metadata": {},
   "source": [
    "6 - Faça um programa em python que leia uma frase qualquer e um início de palavra. O programa deve imprimir uma lista com apenas as palavras que começam com o início de palavra informado."
   ]
  },
  {
   "cell_type": "code",
   "execution_count": null,
   "metadata": {},
   "outputs": [],
   "source": [
    "'''Frase = \"Programar em python é muito legal. Existem muitos desafios.\"\n",
    "\n",
    "Início de palavra = \"mui\"\n",
    "\n",
    "Resultado: [\"muito\", \"muitos\"]'''"
   ]
  },
  {
   "cell_type": "code",
   "execution_count": 25,
   "metadata": {},
   "outputs": [
    {
     "name": "stdout",
     "output_type": "stream",
     "text": [
      "['muito', 'muitos']\n"
     ]
    }
   ],
   "source": [
    "frase = input('Digite a frase: ')\n",
    "busca = input('Digite a busca: ')\n",
    "lista = frase.split()\"\n",
    "encontrados = [ s for s in lista if busca in s ]\n",
    "print(encontrados)"
   ]
  },
  {
   "cell_type": "markdown",
   "metadata": {},
   "source": [
    "7 - Faça um programa em python que leia uma frase qualquer e um final de palavra. O programa deve imprimir uma lista com apenas as palavras que terminam com o final de palavra informado."
   ]
  },
  {
   "cell_type": "code",
   "execution_count": null,
   "metadata": {},
   "outputs": [],
   "source": [
    "'''Frase = \"Programar em python é muito legal. Existem muitos desafios.\"\n",
    "\n",
    "Início de palavra = \"os\"\n",
    "\n",
    "Resultado: [\"muitos\", \"desafios\"]'''"
   ]
  },
  {
   "cell_type": "code",
   "execution_count": 46,
   "metadata": {},
   "outputs": [
    {
     "name": "stdout",
     "output_type": "stream",
     "text": [
      "['muitos', 'desafios']\n"
     ]
    }
   ],
   "source": [
    "frase = input('Digite a frase: ')\n",
    "final = input('Digite o final da palavra: ')\n",
    "lista = frase.split()\n",
    "encontrados = []\n",
    "\n",
    "for i in lista:\n",
    "    if final == (i[-2:]):\n",
    "        encontrados.append(i)\n",
    "print(encontrados)"
   ]
  }
 ],
 "metadata": {
  "kernelspec": {
   "display_name": "Python 3.9.12 ('base')",
   "language": "python",
   "name": "python3"
  },
  "language_info": {
   "codemirror_mode": {
    "name": "ipython",
    "version": 3
   },
   "file_extension": ".py",
   "mimetype": "text/x-python",
   "name": "python",
   "nbconvert_exporter": "python",
   "pygments_lexer": "ipython3",
   "version": "3.9.12"
  },
  "orig_nbformat": 4,
  "vscode": {
   "interpreter": {
    "hash": "3a0de9df006df342b5e4296aedaeaf87f8585c794651fec65fd5881a82402807"
   }
  }
 },
 "nbformat": 4,
 "nbformat_minor": 2
}
