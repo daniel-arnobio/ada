{
 "cells": [
  {
   "cell_type": "markdown",
   "metadata": {},
   "source": [
    "# Exercícios Aula 1 e 2 - Lógica de Programação II"
   ]
  },
  {
   "cell_type": "markdown",
   "metadata": {},
   "source": [
    "1 - Crie um programa em que o usuário possa criar uma lista de contatos. Cada elemento dessa lista precisa ser um dicionário contendo os seguintes dados: cpf, nome, idade, telefone.\n",
    "\n",
    "Uma vez que os dados forem fornecidos pelo usuário. Imprima toda lista de contatos com seguinte formato:\n",
    "\n",
    "Saída: nome-idade-fone."
   ]
  },
  {
   "cell_type": "code",
   "execution_count": null,
   "metadata": {},
   "outputs": [],
   "source": [
    "lista_contatos = {'cpf': [],\n",
    "                 'nome': [],\n",
    "                 'idade': [],\n",
    "                 'telefone': []}\n",
    "\n",
    "cpf = input('Digite o seu cpf: ')\n",
    "lista_contatos['cpf'] = cpf\n",
    "nome = input('Digite o seu nome: ')\n",
    "lista_contatos['nome'] = nome\n",
    "idade = input('Digite a sua idade: ')\n",
    "lista_contatos['idade'] = idade\n",
    "telefone = input('Digite o seu telefone: ')\n",
    "lista_contatos['telefone'] = telefone\n",
    "\n",
    "print(f\"{lista_contatos['nome']} - {lista_contatos['idade']} - {lista_contatos['telefone']}\")"
   ]
  },
  {
   "cell_type": "markdown",
   "metadata": {},
   "source": [
    "2 - Crie um programa que cadastre informações de várias pessoas (nome, idade e cpf) e depois coloque em uma lista de dicionários.\n",
    "\n",
    "Depois crie uma função que receba a lista dicionários, e que retorne os dicionários em que as pessoas sejam maiores de 18 anos."
   ]
  },
  {
   "cell_type": "code",
   "execution_count": 10,
   "metadata": {},
   "outputs": [
    {
     "name": "stdout",
     "output_type": "stream",
     "text": [
      "Insira os dados do contato 1\n",
      "Insira os dados do contato 2\n",
      "[{'nome': 'Daniel', 'idade': 28, 'cpf': '1233223229'}, {'nome': 'Julia', 'idade': 7, 'cpf': '12738322398'}]\n"
     ]
    },
    {
     "data": {
      "text/plain": [
       "{'nome': 'Daniel', 'idade': 28, 'cpf': '1233223229'}"
      ]
     },
     "execution_count": 10,
     "metadata": {},
     "output_type": "execute_result"
    }
   ],
   "source": [
    "lista_contatos = []\n",
    "numero_contatos = int(input('Digite quantos contatos você deseja adicionar: '))\n",
    "\n",
    "for i in range(numero_contatos):\n",
    "\n",
    "    dados_contato = {'nome': [],\n",
    "                 'idade': [],\n",
    "                'cpf': [],}\n",
    "\n",
    "    print(f'Insira os dados do contato {i+1}:')\n",
    "    nome = input('Digite o nome: ')\n",
    "    dados_contato['nome'] = nome\n",
    "    idade = int(input(f'Digite a idade da(o {nome}): '))\n",
    "    dados_contato['idade'] = idade\n",
    "    cpf = int(input(f'Digite o seu cpf da(o) {nome}: '))\n",
    "    dados_contato['cpf'] = cpf\n",
    "    lista_contatos.append(dados_contato)\n",
    "\n",
    "    \n",
    "def maioridade(lista_contatos):\n",
    "    for i in lista_contatos:\n",
    "        if i['idade'] >=18:\n",
    "            print('Contatos maiores de 18 anos: ')\n",
    "            return i\n",
    "        else:\n",
    "            return 'Não existe contatos com idade maior que 18 anos'\n",
    "\n",
    "maioridade(lista_contatos)"
   ]
  },
  {
   "cell_type": "markdown",
   "metadata": {},
   "source": [
    "3 - Faça um programa em python que leia notas de um aluno em 5 disciplinas diferentes. Os dados do aluno são: nome, matricula, disciplina e nota.\n",
    "\n",
    "Após ler os dados do aluno, retorne:\n",
    "\n",
    "A média de todas as notas do aluno.\n",
    "A disciplina em que o aluno obteve a maior nota.\n",
    "Exemplo de saída: Nome: João - Disciplina: Matemática - Nota: 9.0.\n",
    "A disciplina em que o aluno obteve a menor nota.\n",
    "Exemplo de saída: Nome: João - Disciplina: Matemática - Nota: 1.0."
   ]
  },
  {
   "cell_type": "code",
   "execution_count": 23,
   "metadata": {},
   "outputs": [
    {
     "name": "stdout",
     "output_type": "stream",
     "text": [
      "Nome: Daniel - Média: 7.4\n",
      "Maior nota - Nome: Daniel - Disciplina: Química - Nota: 10\n",
      "Menor nota - Nome: Daniel - Disciplina: Geografia - Nota: 3\n"
     ]
    }
   ],
   "source": [
    "alunos = {'nome': input('Digite o seu nome: '),\n",
    "         'disciplinas': {'português': int(input('Digite a nota de português: ')),\n",
    "                        'matematica': int(input('Digite a nota de matematica: ')),\n",
    "                        'historia': int(input('Digite a nota de história: ')),\n",
    "                        'geografia': int(input('Digite a nota de geografia: ')),\n",
    "                        'química': int(input('Digite a nota de química: '))}}\n",
    "somatorio = 0\n",
    "maior_nota = 0\n",
    "disciplina_maior_nota = 0\n",
    "menor_nota = 1000000\n",
    "disciplina_menor_nota = 0\n",
    "\n",
    "for key,value in list(alunos['disciplinas'].items()):\n",
    "    somatorio += value \n",
    "    if value > maior_nota:\n",
    "        maior_nota = value\n",
    "        disciplina_maior_nota = key\n",
    "    if value < menor_nota:\n",
    "        menor_nota = value\n",
    "        disciplina_menor_nota = key\n",
    "\n",
    "print(f\"Nome: {alunos['nome']} - Média: {somatorio/5}\")\n",
    "print(f\"Maior nota - Nome: {alunos['nome']} - Disciplina: {disciplina_maior_nota.title()} - Nota: {maior_nota}\")\n",
    "print(f\"Menor nota - Nome: {alunos['nome']} - Disciplina: {disciplina_menor_nota.title()} - Nota: {menor_nota}\")\n"
   ]
  },
  {
   "cell_type": "markdown",
   "metadata": {},
   "source": [
    "4 - Faça um programa, utilizando Dicionários, que peça para o usuário inserir o nome de três produtos de mercado e seus respectivos preços e os mostre na tela."
   ]
  },
  {
   "cell_type": "code",
   "execution_count": 27,
   "metadata": {},
   "outputs": [
    {
     "name": "stdout",
     "output_type": "stream",
     "text": [
      "Sabão : R$ 4.23\n",
      "Macarrão : R$ 3.6\n",
      "Arroz : R$ 6.87\n"
     ]
    }
   ],
   "source": [
    "produtos = {}\n",
    "for i in range(3):\n",
    "    nome = input(f'Digite o nome do produto {i+1}: ')\n",
    "    preco = float(input(f'Digite o preço do produto {i+1}: '))\n",
    "    produtos[nome] = preco\n",
    "\n",
    "for key,value in produtos.items():\n",
    "    print(f'{key}: R$ {value}')"
   ]
  }
 ],
 "metadata": {
  "kernelspec": {
   "display_name": "Python 3.9.12 ('base')",
   "language": "python",
   "name": "python3"
  },
  "language_info": {
   "codemirror_mode": {
    "name": "ipython",
    "version": 3
   },
   "file_extension": ".py",
   "mimetype": "text/x-python",
   "name": "python",
   "nbconvert_exporter": "python",
   "pygments_lexer": "ipython3",
   "version": "3.9.12"
  },
  "orig_nbformat": 4,
  "vscode": {
   "interpreter": {
    "hash": "3a0de9df006df342b5e4296aedaeaf87f8585c794651fec65fd5881a82402807"
   }
  }
 },
 "nbformat": 4,
 "nbformat_minor": 2
}
