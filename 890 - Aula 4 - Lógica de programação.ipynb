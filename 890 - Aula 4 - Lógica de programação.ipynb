{
 "cells": [
  {
   "cell_type": "markdown",
   "metadata": {},
   "source": [
    "## Lista de exercícios - Aula 4 - Lógica de programação\n"
   ]
  },
  {
   "cell_type": "markdown",
   "metadata": {},
   "source": [
    "1 - Dada a seguinte lista:\n",
    "\n",
    "lista = [0, 1, 2, 3, 4, 5, 6, 7, 8, 9, 10, 11, 12, 13, 14, 15]\n",
    "\n",
    "Mostre-me as seguintes listas:\n",
    "\n",
    "* Intervalo de 1 a 9\n",
    "* Intervalo de 8 a 13\n",
    "* Números pares\n",
    "* Números ímpares\n",
    "* Todos os múltiplos de 2, 3 e 4\n",
    "* Lista reversa\n",
    "* Razão entre a soma do intervalo de 10 a 15 pelo intervalo de 3 a 9 em float."
   ]
  },
  {
   "cell_type": "code",
   "execution_count": 19,
   "metadata": {},
   "outputs": [
    {
     "name": "stdout",
     "output_type": "stream",
     "text": [
      "Intervalo de 1 a 9: [1, 2, 3, 4, 5, 6, 7, 8, 9]\n",
      "Intervalo de 8 a 13: [8, 9, 10, 11, 12, 13]\n",
      "Números pares: [0, 2, 4, 6, 8, 10, 12, 14]\n",
      "Números ímpares: [1, 3, 5, 7, 9, 11, 13, 15]\n",
      "Todos os múltiplos de 2, 3 e 4: [0, 12]\n",
      "Lista reversa: [15, 14, 13, 12, 11, 10, 9, 8, 7, 6, 5, 4, 3, 2, 1, 0]\n",
      "Razão entre a soma do intervalo de 10 a 15 pelo intervalo de 3 a 9 em float: 1.79\n"
     ]
    }
   ],
   "source": [
    "lista = [0, 1, 2, 3, 4, 5, 6, 7, 8, 9, 10, 11, 12, 13, 14, 15]\n",
    "lista_1_9 = lista[1:10]\n",
    "lista_8_13 = lista[8:14]\n",
    "pares = [i for i in lista if i%2 == 0]\n",
    "impares =  [i for i in lista if i%2 != 0]\n",
    "multiplos = [i for i in lista if i%2 == 0 and i%3 == 0 and i%4 == 0]\n",
    "reversa = sorted(lista, reverse=True)\n",
    "razao = sum(lista[10:16])/sum(lista[3:10])\n",
    "\n",
    "print(f'Intervalo de 1 a 9: {lista_1_9}')\n",
    "print(f'Intervalo de 8 a 13: {lista_8_13}')\n",
    "print(f'Números pares: {pares}')\n",
    "print(f'Números ímpares: {impares}')\n",
    "print(f'Todos os múltiplos de 2, 3 e 4: {multiplos}')\n",
    "print(f'Lista reversa: {reversa}')\n",
    "print(f'Razão entre a soma do intervalo de 10 a 15 pelo intervalo de 3 a 9 em float: {razao:.2f}')"
   ]
  },
  {
   "cell_type": "markdown",
   "metadata": {},
   "source": [
    "2 = Ler uma lista de 5 números inteiros e mostre cada número juntamente com a sua posição na lista.\n",
    "\n"
   ]
  },
  {
   "cell_type": "code",
   "execution_count": 22,
   "metadata": {},
   "outputs": [
    {
     "name": "stdout",
     "output_type": "stream",
     "text": [
      "Elemento: 1 \t Posição: 0\n",
      "Elemento: 2 \t Posição: 1\n",
      "Elemento: 3 \t Posição: 2\n",
      "Elemento: 4 \t Posição: 3\n",
      "Elemento: 5 \t Posição: 4\n"
     ]
    }
   ],
   "source": [
    "lista = [1, 2, 3, 4, 5]\n",
    "for i in range(len(lista)):\n",
    "    print(f'Elemento: {lista[i]} \\t Posição: {i}')"
   ]
  },
  {
   "cell_type": "markdown",
   "metadata": {},
   "source": [
    "3 - Ler uma lista de 10 números reais e mostre-os na ordem inversa."
   ]
  },
  {
   "cell_type": "code",
   "execution_count": 25,
   "metadata": {},
   "outputs": [
    {
     "name": "stdout",
     "output_type": "stream",
     "text": [
      "[100.3, 45.3, 32.3, 10.4, 10.4, 8.9, 6.3, 5.6, 1.4, 1.2]\n"
     ]
    }
   ],
   "source": [
    "lista = [1.2, 1.4, 5.6, 8.9, 10.4, 6.3, 10.4, 32.3, 45.3, 100.3]\n",
    "\n",
    "print(sorted(lista, reverse = True))"
   ]
  },
  {
   "cell_type": "markdown",
   "metadata": {},
   "source": [
    "4 - Ler uma lista com 4 notas, em seguida o programa deve exibir as notas e a média.\n",
    "\n"
   ]
  },
  {
   "cell_type": "code",
   "execution_count": 27,
   "metadata": {},
   "outputs": [
    {
     "name": "stdout",
     "output_type": "stream",
     "text": [
      "Notas: [8.0, 9.0, 10.0, 8.0]\n",
      "Média: 8.75\n"
     ]
    }
   ],
   "source": [
    "notas = []\n",
    "nota = 1\n",
    "\n",
    "for i in range(4):\n",
    "    n = float(input('Digite a {nota}: '))\n",
    "    notas.append(n)\n",
    "    nota+=1\n",
    "\n",
    "print(f'Notas: {notas}')\n",
    "print(f'Média: {sum(notas)/4}')"
   ]
  },
  {
   "cell_type": "markdown",
   "metadata": {},
   "source": [
    "5 - Ler uma lista com 20 idades e exibir a maior e menor.\n",
    "\n"
   ]
  },
  {
   "cell_type": "code",
   "execution_count": 37,
   "metadata": {},
   "outputs": [
    {
     "name": "stdout",
     "output_type": "stream",
     "text": [
      "Maior idade: 97 anos\n",
      "Menor idade: 1 anos\n",
      "20\n"
     ]
    }
   ],
   "source": [
    "import random\n",
    "\n",
    "idades = []\n",
    "\n",
    "for i in range(20):\n",
    "    idade = random.randint(1, 100)\n",
    "    idades.append(idade)\n",
    "\n",
    "print(f'Maior idade: {max(idades)} anos')\n",
    "print(f'Menor idade: {min(idades)} anos')\n",
    "print(len(idades))"
   ]
  },
  {
   "cell_type": "markdown",
   "metadata": {},
   "source": [
    "6 - Inicialize uma lista de 20 números inteiros. Armazene os números pares em uma lista PAR e os números ímpares em uma lista IMPAR. Imprima as listas PAR e IMPAR."
   ]
  },
  {
   "cell_type": "code",
   "execution_count": 53,
   "metadata": {},
   "outputs": [
    {
     "name": "stdout",
     "output_type": "stream",
     "text": [
      "Pares: [0, 2, 4, 6, 8, 10, 12, 14]\n",
      "Impares: [1925, 6561, 1623, 4857, 531, 4459, 2481, 9843, 8211, 4179]\n"
     ]
    }
   ],
   "source": [
    "import random\n",
    "\n",
    "numeros = []\n",
    "\n",
    "for i in range(20):\n",
    "    numero = random.randint(1, 10000)\n",
    "    numeros.append(numero)\n",
    "\n",
    "par = [i for i in numeros if i%2 == 0]\n",
    "impar = [i for i in numeros if i%2 != 0]\n",
    "\n",
    "print(f'Pares: {pares}')\n",
    "print(f'Impares: {impar}')"
   ]
  },
  {
   "cell_type": "markdown",
   "metadata": {},
   "source": [
    "Faça um programa que leia um número indeterminado de notas. Após esta entrada de dados, faça o seguinte:\n",
    "\n",
    "* Mostre a quantidade de notas que foram lidas.\n",
    "* Exiba todas as notas na ordem em que foram informadas.\n",
    "* Exiba todas as notas na ordem inversa à que foram informadas, uma abaixo do outra.\n",
    "* Calcule e mostre a soma das notas.\n",
    "* Calcule e mostre a média das notas.\n",
    "* Calcule e mostre a quantidade de notas acima da média calculada."
   ]
  },
  {
   "cell_type": "code",
   "execution_count": 64,
   "metadata": {},
   "outputs": [
    {
     "name": "stdout",
     "output_type": "stream",
     "text": [
      "Quantidade de notas lidas: 5\n",
      "Notas na ordem em que foram informadas: [9.0, 10.0, 6.0, 4.0, 8.0]\n",
      "Notas na ordem inversa à que foram informadas\n",
      "8.0\n",
      "4.0\n",
      "6.0\n",
      "10.0\n",
      "9.0\n",
      "Soma da notas: 37.0\n",
      "Média das notas: 7.40\n",
      "Notas acima da média: [9.0, 10.0, 8.0]\n"
     ]
    }
   ],
   "source": [
    "notas = []\n",
    "parada = 's'\n",
    "\n",
    "while parada != 'n':\n",
    "    if parada != 'n':\n",
    "        nota = float(input('Digite uma nota '))\n",
    "        notas.append(nota)\n",
    "        parada = input('Inserir mais uma nota s/n: ')\n",
    "\n",
    "notas_inversa = notas[::-1]\n",
    "media = sum(notas)/len(notas)\n",
    "acima_media = [i for i in notas if i>media]\n",
    "\n",
    "print(f'Quantidade de notas lidas: {len(notas)}')\n",
    "print(f'Notas na ordem em que foram informadas: {notas}')\n",
    "\n",
    "print(f'Notas na ordem inversa à que foram informadas:')\n",
    "for i in notas_inversa:\n",
    "    print(i)\n",
    "\n",
    "print(f'Soma da notas: {sum(notas)}')\n",
    "print(f'Média das notas: {media:.2f}')\n",
    "print(f'Notas acima da média: {acima_media}')\n"
   ]
  },
  {
   "cell_type": "code",
   "execution_count": null,
   "metadata": {},
   "outputs": [],
   "source": []
  }
 ],
 "metadata": {
  "kernelspec": {
   "display_name": "Python 3.9.12 ('base')",
   "language": "python",
   "name": "python3"
  },
  "language_info": {
   "codemirror_mode": {
    "name": "ipython",
    "version": 3
   },
   "file_extension": ".py",
   "mimetype": "text/x-python",
   "name": "python",
   "nbconvert_exporter": "python",
   "pygments_lexer": "ipython3",
   "version": "3.9.12"
  },
  "orig_nbformat": 4,
  "vscode": {
   "interpreter": {
    "hash": "3a0de9df006df342b5e4296aedaeaf87f8585c794651fec65fd5881a82402807"
   }
  }
 },
 "nbformat": 4,
 "nbformat_minor": 2
}
