{
 "cells": [
  {
   "cell_type": "markdown",
   "metadata": {},
   "source": [
    "# Lista de exercícios - Variáveis, entradas e saídas"
   ]
  },
  {
   "cell_type": "markdown",
   "metadata": {},
   "source": [
    "##### 1 - Faça um programa em linguagem python que receba um valor em metros, e o converta para centímetros. Por fim, imprima na tela o resultado obtido. Dica: para converter metros em centímetros, basta multiplicar o valor por 100."
   ]
  },
  {
   "cell_type": "code",
   "execution_count": 6,
   "metadata": {},
   "outputs": [
    {
     "name": "stdout",
     "output_type": "stream",
     "text": [
      "Insira o valor em metros para ser convertida em centimetros: \n",
      "O inserido em centímetros é: 300.0 cm\n"
     ]
    }
   ],
   "source": [
    "print('Insira o valor em metros para ser convertida em centimetros: ')\n",
    "metros = float(input())\n",
    "print(f'O inserido em centímetros é: {metros*100} cm')"
   ]
  },
  {
   "cell_type": "markdown",
   "metadata": {},
   "source": [
    "##### 2- Uma financeira usa o seguinte critério para conceder empréstimos: o valor total do empréstimo deve ser até dez vezes o valor da renda mensal do solicitante e o valor da prestação deve ser no máximo 30% da renda mensal do solicitante. Escreva um programa que leia a renda mensal de um solicitante, o valor total do empréstimo solicitado e o número de prestações que o solicitante deseja pagar e informe se o empréstimo pode ou não ser concedido."
   ]
  },
  {
   "cell_type": "code",
   "execution_count": null,
   "metadata": {},
   "outputs": [],
   "source": [
    "renda_mensal = float(input('Insira sua renda mensal: '))\n",
    "valor_maximo_emprestimo = renda_mensal*10\n",
    "valor_maximo_prestacao = renda_mensal*0.1\n",
    "\n",
    "emprestimo_solicitado = float(input('Insira o valor do empréstimo solicitado: '))\n",
    "numero_prestacoes = int(input('Insira o número de prestações que deseja pagar: '))\n",
    "\n",
    "valor_prestacao = emprestimo_solicitado/numero_prestacoes\n",
    "\n",
    "if (emprestimo_solicitado < valor_maximo_emprestimo) and (valor_prestacao <= valor_maximo_prestacao):\n",
    "    print('Empréstimo aprovado!')\n",
    "else:\n",
    "    print('Empréstimo recusado')"
   ]
  },
  {
   "cell_type": "markdown",
   "metadata": {},
   "source": [
    "##### 3- Escreva um programa em python que receba o tamanho do lado de um quadrado, e calcule sua área e seu perímetro, e imprima o resultado na tela."
   ]
  },
  {
   "cell_type": "code",
   "execution_count": 11,
   "metadata": {},
   "outputs": [
    {
     "name": "stdout",
     "output_type": "stream",
     "text": [
      "A quadrado de lado 4.0 tem área igual a 16.0 m2 e perimetro de 16.0 m\n"
     ]
    }
   ],
   "source": [
    "tamanho_lado = float(input('Insira o tamanho do lado do quadrado: '))\n",
    "area = tamanho_lado*tamanho_lado\n",
    "perimetro = tamanho_lado*4\n",
    "\n",
    "print(f'A quadrado de lado {tamanho_lado} tem área igual a {area} m2 e perimetro igual a {perimetro} m')"
   ]
  },
  {
   "cell_type": "markdown",
   "metadata": {},
   "source": [
    "##### 4 - Escreva um programa em python que receba dois números inteiros e exiba o quociente e o resto da divisão inteira entre eles."
   ]
  },
  {
   "cell_type": "code",
   "execution_count": 14,
   "metadata": {},
   "outputs": [
    {
     "name": "stdout",
     "output_type": "stream",
     "text": [
      "Quociente = 1.5\n",
      "Resto = 1\n"
     ]
    }
   ],
   "source": [
    "n1 = int(input('Insira um número: '))\n",
    "n2 = int(input('Insira um numero: '))\n",
    "\n",
    "quociente = n1/n2\n",
    "resto = n1%n2\n",
    "\n",
    "print(f'Quociente = {quociente}')\n",
    "\n",
    "print(f'Resto = {resto}')"
   ]
  },
  {
   "cell_type": "markdown",
   "metadata": {},
   "source": [
    "##### 5 - Dado que a fórmula para conversão de Fahrenheit para Celsius é C = 5/9 (F – 32), escreva um programa em python que receba um valor de temperatura em Fahrenheit e exibi-o em Celsius"
   ]
  },
  {
   "cell_type": "code",
   "execution_count": 17,
   "metadata": {},
   "outputs": [
    {
     "name": "stdout",
     "output_type": "stream",
     "text": [
      "A temperatura em celsius é 31.67\n"
     ]
    }
   ],
   "source": [
    "temp_fahrenheit = float(input('Insira a temperatura em Fahrenheit: '))\n",
    "temp_celsius = (5/9)*(temp_fahrenheit-32)\n",
    "\n",
    "print(f'A temperatura em celsius é {temp_celsius:.2f} C')"
   ]
  },
  {
   "cell_type": "markdown",
   "metadata": {},
   "source": [
    "##### 6 - Faça programa em python para calcular a nota semestral de um aluno. A nota semestral é obtida pela média aritmética entre a nota de 2 bimestres. Cada nota de bimestre é composta por 2 notas de provas."
   ]
  },
  {
   "cell_type": "code",
   "execution_count": 21,
   "metadata": {},
   "outputs": [
    {
     "name": "stdout",
     "output_type": "stream",
     "text": [
      "Notas do bimestre 1\n",
      "n1: 8.0\n",
      "n2: 9.0\n",
      "Notas do bimestre 2\n",
      "n1: 7.0\n",
      "n2: 8.0\n",
      "A nota semestral do aluno Daniel é 16.0 \n"
     ]
    }
   ],
   "source": [
    "nome_aluno = input('Insira o nome do aluno')\n",
    "\n",
    "print('Notas do bimestre 1')\n",
    "n1_b1 = float(input('Insira a nota 1: '))\n",
    "n2_b1 = float(input('Insira a nota 2: '))\n",
    "b1 = n1_b1 + n2_b1\n",
    "print(f'n1: {n1_b1}')\n",
    "print(f'n2: {n2_b1}')\n",
    "\n",
    "print('Notas do bimestre 2')\n",
    "n1_b2 = float(input('Insira a nota 1: '))\n",
    "n2_b2 = float(input('Insira a nota 2: '))\n",
    "b2 = n1_b2 + n2_b2\n",
    "print(f'n1: {n1_b2}')\n",
    "print(f'n2: {n2_b2}')\n",
    "\n",
    "nota_semestral = (b1 + b2)/2\n",
    "\n",
    "print(f'A nota semestral do aluno {nome_aluno} é {nota_semestral} ')\n"
   ]
  },
  {
   "cell_type": "code",
   "execution_count": null,
   "metadata": {},
   "outputs": [],
   "source": []
  }
 ],
 "metadata": {
  "kernelspec": {
   "display_name": "Python 3.10.4 64-bit",
   "language": "python",
   "name": "python3"
  },
  "language_info": {
   "codemirror_mode": {
    "name": "ipython",
    "version": 3
   },
   "file_extension": ".py",
   "mimetype": "text/x-python",
   "name": "python",
   "nbconvert_exporter": "python",
   "pygments_lexer": "ipython3",
   "version": "3.10.4"
  },
  "orig_nbformat": 4,
  "vscode": {
   "interpreter": {
    "hash": "805eb4a586df78bc09a436e15a42e33c2fd31c81d343880a4690c2b8bca9725b"
   }
  }
 },
 "nbformat": 4,
 "nbformat_minor": 2
}
