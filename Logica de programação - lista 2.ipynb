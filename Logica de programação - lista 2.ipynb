{
 "cells": [
  {
   "cell_type": "markdown",
   "metadata": {},
   "source": [
    "## Lógica de Programação"
   ]
  },
  {
   "cell_type": "markdown",
   "metadata": {},
   "source": [
    "##### 1 - Faça um programa que pede duas notas de um aluno. Em seguida ele deve calcular a média do aluno e dar o seguinte resultado:\n",
    "\n",
    "* A mensagem \"Aprovado\", se a média alcançada for maior ou igual a sete\n",
    "* A mensagem \"Reprovado\", se a média for menor do que sete;\n",
    "* A mensagem \"Aprovado com Distinção\", se a média for igual a dez."
   ]
  },
  {
   "cell_type": "code",
   "execution_count": 1,
   "metadata": {},
   "outputs": [
    {
     "name": "stdout",
     "output_type": "stream",
     "text": [
      "Reprovado!\n"
     ]
    }
   ],
   "source": [
    "nota_1 = float(input('Insira uma nota: '))\n",
    "nota_2 = float(input('Insira uma nota: '))\n",
    "\n",
    "media = (nota_1 + nota_2)/2\n",
    "\n",
    "if media >= 7:\n",
    "    print('Aprovado!')\n",
    "elif media < 7:\n",
    "    print('Reprovado!')\n",
    "elif media == 10:\n",
    "    print('Aprovado com Distinção')"
   ]
  },
  {
   "cell_type": "markdown",
   "metadata": {},
   "source": [
    "#### 2 - Faça um Programa que leia três números inteiros e mostre o maior deles."
   ]
  },
  {
   "cell_type": "code",
   "execution_count": 4,
   "metadata": {},
   "outputs": [
    {
     "name": "stdout",
     "output_type": "stream",
     "text": [
      "O número 102 é o maior\n"
     ]
    }
   ],
   "source": [
    "n1 = int(input('Insira um número: '))\n",
    "n2 = int(input('Insira um número: '))\n",
    "n3 = int(input('Insira um número: '))\n",
    "\n",
    "if n1 > n2 and n1 > n3:\n",
    "    print(f'O {n1} é o maior número ')\n",
    "\n",
    "elif n2>n1 and n2>n3:\n",
    "    print(f'O {n2} é o maior numero')\n",
    "\n",
    "elif n3>n1 and n3>n2:\n",
    "    print(f'O número {n3} é o maior')"
   ]
  },
  {
   "cell_type": "markdown",
   "metadata": {},
   "source": [
    "#### 3 - Faça um Programa que pergunte em que turno você estuda. Peça para digitar M-matutino ou V-Vespertino ou N- Noturno. Imprima a mensagem \"Bom Dia!\", \"Boa Tarde!\" ou \"Boa Noite!\" ou \"Valor Inválido!\", conforme o caso."
   ]
  },
  {
   "cell_type": "code",
   "execution_count": 12,
   "metadata": {},
   "outputs": [
    {
     "name": "stdout",
     "output_type": "stream",
     "text": [
      "Digite o turno que você estuda: \n",
      "Boa noite!\n"
     ]
    }
   ],
   "source": [
    "print('Digite o turno que você estuda: ')\n",
    "turno = input('M - Matutino, V - Vespertino, N - Noturno: ').upper()\n",
    "\n",
    "if turno == 'M':\n",
    "    print('Bom dia!')\n",
    "elif turno == 'V':\n",
    "    print('Boa tarde!')\n",
    "elif turno == 'N':\n",
    "    print('Boa noite!')\n",
    "else:\n",
    "    print('Valor inválido!')"
   ]
  },
  {
   "cell_type": "markdown",
   "metadata": {},
   "source": [
    "4 - Faça um programa que recebe o salário de um colaborador e o reajuste segundo o seguinte critério, baseado no salário atual:\n",
    "\n",
    "* salários até R$ 280,00 (incluindo) : aumento de 20%\n",
    "* salários entre R$ 280,00 e R$ 700,00 : aumento de 15%\n",
    "* salários entre R$ 700,00 e R$ 1500,00 : aumento de 10%\n",
    "* salários de R$ 1500,00 em diante : aumento de 5%\n",
    "\n",
    " Após o aumento ser realizado, informe na tela:\n",
    "\n",
    "* o salário antes do reajuste;\n",
    "* o percentual de aumento aplicado;\n",
    "* o valor do aumento;\n",
    "* o novo salário, após o aumento."
   ]
  },
  {
   "cell_type": "code",
   "execution_count": 17,
   "metadata": {},
   "outputs": [
    {
     "name": "stdout",
     "output_type": "stream",
     "text": [
      "Salário antes do reajuste: 1600.0\n",
      "Percentual de aumento aplicado: 5%\n",
      "Valor do aumento: 80.0\n",
      "Novo salário, após o aumento: 1680.0\n"
     ]
    }
   ],
   "source": [
    "salario = float(input('Digite o salário do colaborador: '))\n",
    "\n",
    "if salario <= 280:\n",
    "    reajuste = '20%'\n",
    "    aumento = salario*0.2\n",
    "    novo_salario = salario + aumento\n",
    "\n",
    "elif salario > 280 and salario <= 700:\n",
    "    reajuste = '15%'\n",
    "    aumento = salario*0.15\n",
    "    novo_salario = salario + aumento\n",
    "\n",
    "elif salario > 700 and salario <= 1500:\n",
    "    reajuste = '10%'\n",
    "    aumento = salario*0.1\n",
    "    novo_salario = salario + aumento\n",
    "\n",
    "elif salario > 1500:\n",
    "    reajuste = '5%'\n",
    "    aumento = salario*0.05\n",
    "    novo_salario = salario + aumento\n",
    "\n",
    "print(f'Salário antes do reajuste: {salario}')\n",
    "print(f'Percentual de aumento aplicado: {reajuste}')\n",
    "print(f'Valor do aumento: {aumento}')\n",
    "print(f'Novo salário, após o aumento: {novo_salario}')"
   ]
  },
  {
   "cell_type": "markdown",
   "metadata": {},
   "source": [
    "Faça um programa para o cálculo de uma folha de pagamento, sabendo que os descontos são do Imposto de Renda, que depende do salário bruto (conforme tabela abaixo) e 3% para o Sindicato e que o FGTS corresponde a 11% do Salário Bruto, mas não é descontado (é a empresa que deposita). O Salário Líquido corresponde ao Salário Bruto menos os descontos. O programa deverá pedir ao usuário o valor da sua hora e a quantidade de horas trabalhadas no mês.\n",
    "\n",
    "Desconto do IR:\n",
    "\n",
    "* Salário Bruto até 900 (inclusive) - isento\n",
    "\n",
    "* Salário Bruto até 1500 (inclusive) - desconto de 5%\n",
    "\n",
    "* Salário Bruto até 2500 (inclusive) - desconto de 10%\n",
    "\n",
    "* Salário Bruto acima de 2500 - desconto de 20% Imprima na tela as informações, dispostas conforme o exemplo abaixo. No exemplo o valor da hora é 5 e a quantidade de hora é 220.\n",
    "\n",
    "* Salário Bruto: (5 * 220): R$ 1100,00\n",
    "\n",
    "* (-) IR (5%): R$ 55,00\n",
    "* (-) INSS ( 10%): R$ 110,00\n",
    "* FGTS (11%): R$ 121,00\n",
    "* Total de descontos: R$ 165,00\n",
    "* Salário Liquido: R$ 935,00"
   ]
  },
  {
   "cell_type": "code",
   "execution_count": 1,
   "metadata": {},
   "outputs": [],
   "source": [
    "valor_hora = float(input('Digite o valor da hora trabalhada: '))\n",
    "qtd_horas = int(input('Digite a quantidade de horas trabalhadas: '))\n",
    "\n",
    "salario_bruto = qtd_horas*valor_hora\n",
    "\n",
    "if salario_bruto > 900:\n",
    "    desconto_IR = 0\n",
    "    desconto_inss = salario_bruto * 0.03 \n",
    "    fgts = salario_bruto*0.11\n",
    "    descontos = desconto_inss + desconto_IR\n",
    "\n",
    "print()\n",
    "\n"
   ]
  },
  {
   "cell_type": "code",
   "execution_count": 21,
   "metadata": {},
   "outputs": [
    {
     "data": {
      "text/plain": [
       "0"
      ]
     },
     "execution_count": 21,
     "metadata": {},
     "output_type": "execute_result"
    }
   ],
   "source": []
  },
  {
   "cell_type": "code",
   "execution_count": null,
   "metadata": {},
   "outputs": [],
   "source": [
    "i = 0"
   ]
  }
 ],
 "metadata": {
  "kernelspec": {
   "display_name": "Python 3.9.12 ('base')",
   "language": "python",
   "name": "python3"
  },
  "language_info": {
   "codemirror_mode": {
    "name": "ipython",
    "version": 3
   },
   "file_extension": ".py",
   "mimetype": "text/x-python",
   "name": "python",
   "nbconvert_exporter": "python",
   "pygments_lexer": "ipython3",
   "version": "3.9.12"
  },
  "orig_nbformat": 4,
  "vscode": {
   "interpreter": {
    "hash": "3a0de9df006df342b5e4296aedaeaf87f8585c794651fec65fd5881a82402807"
   }
  }
 },
 "nbformat": 4,
 "nbformat_minor": 2
}
